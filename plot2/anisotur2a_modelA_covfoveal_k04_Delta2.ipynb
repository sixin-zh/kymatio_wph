{
 "cells": [
  {
   "cell_type": "code",
   "execution_count": 1,
   "metadata": {},
   "outputs": [],
   "source": [
    "%matplotlib inline\n",
    "import matlab.engine\n",
    "import matlab\n",
    "#eng = matlab.engine.start_matlab()  \n",
    "eng = matlab.engine.connect_matlab()"
   ]
  },
  {
   "cell_type": "code",
   "execution_count": 2,
   "metadata": {},
   "outputs": [],
   "source": [
    "import matplotlib.pyplot as plt\n",
    "import do_plot_get2 as dpg\n",
    "import numpy as np\n",
    "\n",
    "import os,sys,datetime\n",
    "import traceback\n",
    "\n",
    "reload(dpg)\n",
    "\n",
    "Ns=256\n",
    "froot0= './data/'\n",
    "testlabel = 'ns_randn4_aniso_test_N' + str(Ns)\n",
    "\n",
    "ktest0=0\n",
    "Stest=100\n",
    "\n",
    "froot1 = './synthesis/'\n",
    "modellabel = 'maxent_synthesis_anisotur2a'\n",
    "folds=10\n",
    "S = 10\n",
    "\n",
    "J=5\n",
    "L=8\n",
    "Delta=2\n",
    "kmin=0\n",
    "kmax=4\n",
    "jmin=1\n",
    "\n",
    "cache=1\n",
    "mode=3"
   ]
  },
  {
   "cell_type": "code",
   "execution_count": null,
   "metadata": {
    "scrolled": false
   },
   "outputs": [
    {
     "name": "stdout",
     "output_type": "stream",
     "text": [
      "('getori matlab fname=', 'ns_randn4_aniso_test_N256')\n",
      "load cached data: ./data/ns_randn4_aniso_test_N256\n",
      "('test set size', 100)\n",
      "('run matlab to eval bumpcovfoveal3 with klim ... use nbcores=', 12)\n",
      "('getori matlab fname=', 'maxent_synthesis_anisotur2a_kb1')\n",
      "load cached data: ./synthesis/maxent_synthesis_anisotur2a_kb1\n",
      "('test set size', 10)\n",
      "('run matlab to eval bumpcovfoveal3 with klim ... use nbcores=', 12)\n",
      "('getori matlab fname=', 'maxent_synthesis_anisotur2a_kb2')\n",
      "load cached data: ./synthesis/maxent_synthesis_anisotur2a_kb2\n",
      "('test set size', 10)\n",
      "('run matlab to eval bumpcovfoveal3 with klim ... use nbcores=', 12)\n",
      "('getori matlab fname=', 'maxent_synthesis_anisotur2a_kb3')\n",
      "load cached data: ./synthesis/maxent_synthesis_anisotur2a_kb3\n",
      "('test set size', 10)\n",
      "('run matlab to eval bumpcovfoveal3 with klim ... use nbcores=', 12)\n",
      "('getori matlab fname=', 'maxent_synthesis_anisotur2a_kb4')\n",
      "load cached data: ./synthesis/maxent_synthesis_anisotur2a_kb4\n",
      "('test set size', 10)\n",
      "('run matlab to eval bumpcovfoveal3 with klim ... use nbcores=', 12)\n",
      "('getori matlab fname=', 'maxent_synthesis_anisotur2a_kb5')\n",
      "load cached data: ./synthesis/maxent_synthesis_anisotur2a_kb5\n",
      "('test set size', 10)\n",
      "('run matlab to eval bumpcovfoveal3 with klim ... use nbcores=', 12)\n",
      "('getori matlab fname=', 'maxent_synthesis_anisotur2a_kb6')\n",
      "load cached data: ./synthesis/maxent_synthesis_anisotur2a_kb6\n",
      "('test set size', 10)\n",
      "('run matlab to eval bumpcovfoveal3 with klim ... use nbcores=', 12)\n"
     ]
    }
   ],
   "source": [
    "from random import randint\n",
    "fol_test_cov1 = []\n",
    "fol_model_cov1 = []\n",
    "\n",
    "# fol is for each model\n",
    "try:\n",
    "    # only 1 fold for test\n",
    "    cov1re_test,cov1im_test = dpg.evalcovfoveal_test(eng,froot0,testlabel,ktest0,Stest,J,L,Delta,kmin,kmax,jmin,ext='matlab',cache=cache,mode=mode)\n",
    "    cov1_test = cov1re_test + 1j * cov1im_test\n",
    "    fol_test_cov1.append(cov1_test)\n",
    "    for fol in range(folds):\n",
    "        kstart=fol+1\n",
    "        modelmat = modellabel + '_kb' + str(kstart)\n",
    "        cov1re_model,cov1im_model = dpg.evalcovfoveal_test(eng,froot1,modelmat,0,S,J,L,Delta,kmin,kmax,jmin,ext='matlab',cache=cache,mode=mode)\n",
    "        cov1_model = cov1re_model + 1j * cov1im_model \n",
    "        fol_model_cov1.append(cov1_model)\n",
    "        \n",
    "    eng.quit()\n",
    "except:\n",
    "    var = traceback.format_exc()\n",
    "    print \"Unexpected error:\", sys.exc_info()[0]\n",
    "    eng.quit()\n",
    "    print var\n",
    "print('done')"
   ]
  },
  {
   "cell_type": "code",
   "execution_count": null,
   "metadata": {},
   "outputs": [],
   "source": [
    "reload(dpg)\n",
    "fol_test_corr1,fol_model_corr1 = dpg.evaluate_corr(fol_test_cov1,fol_model_cov1,toplot=0)"
   ]
  },
  {
   "cell_type": "code",
   "execution_count": null,
   "metadata": {},
   "outputs": [],
   "source": [
    "reload(dpg)\n",
    "dpg.compute_Kcorr_model(fol_test_corr1,fol_model_corr1)"
   ]
  },
  {
   "cell_type": "code",
   "execution_count": null,
   "metadata": {},
   "outputs": [],
   "source": []
  }
 ],
 "metadata": {
  "kernelspec": {
   "display_name": "Python [conda env:py2] *",
   "language": "python",
   "name": "conda-env-py2-py"
  },
  "language_info": {
   "codemirror_mode": {
    "name": "ipython",
    "version": 2
   },
   "file_extension": ".py",
   "mimetype": "text/x-python",
   "name": "python",
   "nbconvert_exporter": "python",
   "pygments_lexer": "ipython2",
   "version": "2.7.16"
  }
 },
 "nbformat": 4,
 "nbformat_minor": 2
}
