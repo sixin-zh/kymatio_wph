{
 "cells": [
  {
   "cell_type": "code",
   "execution_count": 2,
   "metadata": {},
   "outputs": [
    {
     "name": "stdout",
     "output_type": "stream",
     "text": [
      "in get_kymatio_pt\n",
      "('get ptfile', 'modelC_krec0_start10.pt')\n",
      "('get ptfile', 'modelC_krec1_start10.pt')\n",
      "('get ptfile', 'modelC_krec2_start10.pt')\n",
      "('get ptfile', 'modelC_krec3_start10.pt')\n",
      "('get ptfile', 'modelC_krec4_start10.pt')\n",
      "('get ptfile', 'modelC_krec5_start10.pt')\n",
      "('get ptfile', 'modelC_krec6_start10.pt')\n",
      "('get ptfile', 'modelC_krec7_start10.pt')\n",
      "('get ptfile', 'modelC_krec8_start10.pt')\n",
      "('get ptfile', 'modelC_krec9_start10.pt')\n",
      "('sel loss', 0.00023928459733724595)\n",
      "('sel loss', 0.0002551397494971752)\n",
      "('sel loss', 0.00025621235370635985)\n",
      "('sel loss', 0.0002699674665927887)\n",
      "('sel loss', 0.0002786931209266186)\n",
      "('sel loss', 0.0002879680320620537)\n",
      "('sel loss', 0.0003094484284520149)\n",
      "('sel loss', 0.00031688578426837923)\n",
      "('sel loss', 0.00033616706728935243)\n",
      "('sel loss', 0.0003688284382224083)\n"
     ]
    }
   ],
   "source": [
    "import matplotlib.pyplot as plt\n",
    "import do_plot_get2 as dpg\n",
    "import numpy as np\n",
    "\n",
    "import os,sys,datetime\n",
    "import traceback\n",
    "\n",
    "reload(dpg)\n",
    "\n",
    "folds = 1\n",
    "\n",
    "Ns = 256\n",
    "S = 10\n",
    "maxKrec=S\n",
    "Ksel=maxKrec\n",
    "droot1 = './out/'\n",
    "start0 = 10\n",
    "hRUNFOL = './bubbles/bump_lbfgs_gpu_N256J5L8dj1dl4dk0dn2_maxkshift1_factr10maxite500maxcor20_initnormalstdbarx'\n",
    "hptfile = 'modelC'\n",
    "\n",
    "import scipy.io as sio\n",
    "for fol in range(folds):\n",
    "    kstart=fol+1\n",
    "    imgs_pt=dpg.get_kymatio_pt(droot1,hRUNFOL,hptfile,Ns,kstart,maxKrec,Ksel,start0=start0,nbstart=10)\n",
    "    ofile = './synthesis/bubbles_modelC_synthesis_ks' + str(kstart-1) +'.mat'\n",
    "    sio.savemat (ofile , {'imgs':imgs_pt})\n"
   ]
  },
  {
   "cell_type": "code",
   "execution_count": null,
   "metadata": {},
   "outputs": [],
   "source": []
  }
 ],
 "metadata": {
  "kernelspec": {
   "display_name": "Python [conda env:py2] *",
   "language": "python",
   "name": "conda-env-py2-py"
  },
  "language_info": {
   "codemirror_mode": {
    "name": "ipython",
    "version": 2
   },
   "file_extension": ".py",
   "mimetype": "text/x-python",
   "name": "python",
   "nbconvert_exporter": "python",
   "pygments_lexer": "ipython2",
   "version": "2.7.16"
  }
 },
 "nbformat": 4,
 "nbformat_minor": 2
}
