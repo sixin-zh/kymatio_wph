{
 "cells": [
  {
   "cell_type": "code",
   "execution_count": 1,
   "metadata": {},
   "outputs": [
    {
     "name": "stdout",
     "output_type": "stream",
     "text": [
      "in get_kymatio_pt\n",
      "('get ptfile', 'modelC_krec0_start10.pt')\n",
      "('get ptfile', 'modelC_krec1_start10.pt')\n",
      "('get ptfile', 'modelC_krec2_start10.pt')\n",
      "('get ptfile', 'modelC_krec3_start10.pt')\n",
      "('get ptfile', 'modelC_krec4_start10.pt')\n",
      "('get ptfile', 'modelC_krec5_start10.pt')\n",
      "('get ptfile', 'modelC_krec6_start10.pt')\n",
      "('get ptfile', 'modelC_krec7_start10.pt')\n",
      "('get ptfile', 'modelC_krec8_start10.pt')\n",
      "('get ptfile', 'modelC_krec9_start10.pt')\n",
      "('sel loss', 0.00018679272383451462)\n",
      "('sel loss', 0.0002172633446753025)\n",
      "('sel loss', 0.00021865827962756158)\n",
      "('sel loss', 0.00022995498031377792)\n",
      "('sel loss', 0.00023350287228822707)\n",
      "('sel loss', 0.00024067463353276254)\n",
      "('sel loss', 0.0002606206946074963)\n",
      "('sel loss', 0.00027326755225658416)\n",
      "('sel loss', 0.00027953123673796654)\n",
      "('sel loss', 0.0003100046515464783)\n"
     ]
    }
   ],
   "source": [
    "import matplotlib.pyplot as plt\n",
    "import do_plot_get2 as dpg\n",
    "import numpy as np\n",
    "\n",
    "import os,sys,datetime\n",
    "import traceback\n",
    "\n",
    "reload(dpg)\n",
    "\n",
    "folds = 1\n",
    "\n",
    "Ns = 256\n",
    "S = 10\n",
    "maxKrec=S\n",
    "Ksel=maxKrec\n",
    "droot1='./out/'\n",
    "start0 = 10\n",
    "hRUNFOL = './mrw2dd/bump_lbfgs_gpu_N256J5L8dj1dl4dk0dn2_maxkshift1_factr10maxite500maxcor20_initnormalstdbarx'\n",
    "hptfile = 'modelC'\n",
    "\n",
    "import scipy.io as sio\n",
    "for fol in range(folds):\n",
    "    kstart=fol+1\n",
    "    imgs_pt=dpg.get_kymatio_pt(droot1,hRUNFOL,hptfile,Ns,kstart,maxKrec,Ksel,start0=start0,nbstart=10)\n",
    "    ofile = './synthesis/mrw2dd_modelC_synthesis_ks' + str(kstart-1) +'.mat'\n",
    "    sio.savemat (ofile , {'imgs':imgs_pt})\n"
   ]
  },
  {
   "cell_type": "code",
   "execution_count": null,
   "metadata": {},
   "outputs": [],
   "source": []
  }
 ],
 "metadata": {
  "kernelspec": {
   "display_name": "Python [conda env:py2] *",
   "language": "python",
   "name": "conda-env-py2-py"
  },
  "language_info": {
   "codemirror_mode": {
    "name": "ipython",
    "version": 2
   },
   "file_extension": ".py",
   "mimetype": "text/x-python",
   "name": "python",
   "nbconvert_exporter": "python",
   "pygments_lexer": "ipython2",
   "version": "2.7.16"
  }
 },
 "nbformat": 4,
 "nbformat_minor": 2
}
