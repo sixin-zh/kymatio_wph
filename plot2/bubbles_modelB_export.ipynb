{
 "cells": [
  {
   "cell_type": "code",
   "execution_count": 1,
   "metadata": {},
   "outputs": [
    {
     "name": "stdout",
     "output_type": "stream",
     "text": [
      "in get_kymatio_pt\n",
      "('get ptfile', 'modelB_krec0_start10.pt')\n",
      "('get ptfile', 'modelB_krec1_start10.pt')\n",
      "('get ptfile', 'modelB_krec2_start10.pt')\n",
      "('get ptfile', 'modelB_krec3_start10.pt')\n",
      "('get ptfile', 'modelB_krec4_start10.pt')\n",
      "('get ptfile', 'modelB_krec5_start10.pt')\n",
      "('get ptfile', 'modelB_krec6_start10.pt')\n",
      "('get ptfile', 'modelB_krec7_start10.pt')\n",
      "('get ptfile', 'modelB_krec8_start10.pt')\n",
      "('get ptfile', 'modelB_krec9_start10.pt')\n",
      "('sel loss', 3.1152674928307534e-05)\n",
      "('sel loss', 3.2638804987072946e-05)\n",
      "('sel loss', 3.683718154206872e-05)\n",
      "('sel loss', 3.7355597596615555e-05)\n",
      "('sel loss', 4.126004409044981e-05)\n",
      "('sel loss', 4.4751465320587155e-05)\n",
      "('sel loss', 4.8510530032217506e-05)\n",
      "('sel loss', 5.313255358487367e-05)\n",
      "('sel loss', 6.008898373693228e-05)\n",
      "('sel loss', 7.698253262788058e-05)\n"
     ]
    }
   ],
   "source": [
    "import matplotlib.pyplot as plt\n",
    "import do_plot_get2 as dpg\n",
    "import numpy as np\n",
    "\n",
    "import os,sys,datetime\n",
    "import traceback\n",
    "\n",
    "reload(dpg)\n",
    "\n",
    "folds = 1\n",
    "\n",
    "Ns = 256\n",
    "S = 10\n",
    "maxKrec=S\n",
    "Ksel=maxKrec\n",
    "droot1 = './out/'\n",
    "start0 = 10\n",
    "hRUNFOL = './bubbles/bump_lbfgs_gpu_N256J5L8dj0dl4dk0dn2_maxkshift1_factr10maxite500maxcor20_initnormalstdbarx'\n",
    "hptfile = 'modelB'\n",
    "\n",
    "import scipy.io as sio\n",
    "for fol in range(folds):\n",
    "    kstart=fol+1\n",
    "    imgs_pt=dpg.get_kymatio_pt(droot1,hRUNFOL,hptfile,Ns,kstart,maxKrec,Ksel,start0=start0,nbstart=10)\n",
    "    ofile = './synthesis/bubbles_modelB_synthesis_ks' + str(kstart-1) +'.mat'\n",
    "    sio.savemat (ofile , {'imgs':imgs_pt})\n"
   ]
  },
  {
   "cell_type": "code",
   "execution_count": null,
   "metadata": {},
   "outputs": [],
   "source": []
  }
 ],
 "metadata": {
  "kernelspec": {
   "display_name": "Python [conda env:py2] *",
   "language": "python",
   "name": "conda-env-py2-py"
  },
  "language_info": {
   "codemirror_mode": {
    "name": "ipython",
    "version": 2
   },
   "file_extension": ".py",
   "mimetype": "text/x-python",
   "name": "python",
   "nbconvert_exporter": "python",
   "pygments_lexer": "ipython2",
   "version": "2.7.16"
  }
 },
 "nbformat": 4,
 "nbformat_minor": 2
}
