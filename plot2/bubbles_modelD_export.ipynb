{
 "cells": [
  {
   "cell_type": "code",
   "execution_count": 4,
   "metadata": {},
   "outputs": [
    {
     "name": "stdout",
     "output_type": "stream",
     "text": [
      "in get_kymatio_pt\n",
      "('get ptfile', 'eval_wph2_isonoref_norml_stdnorm1_krec0_start10.pt')\n",
      "('get ptfile', 'eval_wph2_isonoref_norml_stdnorm1_krec1_start10.pt')\n",
      "('get ptfile', 'eval_wph2_isonoref_norml_stdnorm1_krec2_start10.pt')\n",
      "('get ptfile', 'eval_wph2_isonoref_norml_stdnorm1_krec3_start10.pt')\n",
      "('get ptfile', 'eval_wph2_isonoref_norml_stdnorm1_krec4_start10.pt')\n",
      "('get ptfile', 'eval_wph2_isonoref_norml_stdnorm1_krec5_start10.pt')\n",
      "('get ptfile', 'eval_wph2_isonoref_norml_stdnorm1_krec6_start10.pt')\n",
      "('get ptfile', 'eval_wph2_isonoref_norml_stdnorm1_krec7_start10.pt')\n",
      "('get ptfile', 'eval_wph2_isonoref_norml_stdnorm1_krec8_start10.pt')\n",
      "('get ptfile', 'eval_wph2_isonoref_norml_stdnorm1_krec9_start10.pt')\n",
      "('sel loss', 5.103259354655165e-08)\n",
      "('sel loss', 6.19746924712672e-08)\n",
      "('sel loss', 6.407797172869323e-08)\n",
      "('sel loss', 9.04362605069764e-08)\n",
      "('sel loss', 9.192221114062704e-08)\n",
      "('sel loss', 9.546454748488032e-08)\n",
      "('sel loss', 1.0047084288089536e-07)\n",
      "('sel loss', 1.2153476745879745e-07)\n",
      "('sel loss', 1.5884275853750295e-07)\n",
      "('sel loss', 1.724710273265373e-07)\n"
     ]
    }
   ],
   "source": [
    "import matplotlib.pyplot as plt\n",
    "import do_plot_get2 as dpg\n",
    "import numpy as np\n",
    "\n",
    "import os,sys,datetime\n",
    "import traceback\n",
    "\n",
    "reload(dpg)\n",
    "\n",
    "folds = 1\n",
    "\n",
    "Ns = 256\n",
    "S = 10\n",
    "maxKrec=S\n",
    "Ksel=maxKrec\n",
    "droot1='./out/'\n",
    "start0 = 10\n",
    "hRUNFOL = './bubbles/bump_lbfgs_gpu_N256J5L8dj1dldk0_factr10maxite500maxcor20_initnormalstdbarx'\n",
    "hptfile = 'eval_wph2_isonoref_norml_stdnorm1'\n",
    "\n",
    "\n",
    "import scipy.io as sio\n",
    "for fol in range(folds):\n",
    "    kstart=fol+1\n",
    "    imgs_pt=dpg.get_kymatio_pt(droot1,hRUNFOL,hptfile,Ns,kstart,maxKrec,Ksel,start0=start0,nbstart=10)\n",
    "    ofile = './synthesis/bubbles_modelD_synthesis_ks' + str(kstart-1) +'.mat'\n",
    "    sio.savemat (ofile , {'imgs':imgs_pt})\n"
   ]
  },
  {
   "cell_type": "code",
   "execution_count": null,
   "metadata": {},
   "outputs": [],
   "source": []
  }
 ],
 "metadata": {
  "kernelspec": {
   "display_name": "Python [conda env:py2] *",
   "language": "python",
   "name": "conda-env-py2-py"
  },
  "language_info": {
   "codemirror_mode": {
    "name": "ipython",
    "version": 2
   },
   "file_extension": ".py",
   "mimetype": "text/x-python",
   "name": "python",
   "nbconvert_exporter": "python",
   "pygments_lexer": "ipython2",
   "version": "2.7.16"
  }
 },
 "nbformat": 4,
 "nbformat_minor": 2
}
